{
  "cells": [
    {
      "cell_type": "markdown",
      "metadata": {
        "id": "view-in-github",
        "colab_type": "text"
      },
      "source": [
        "<a href=\"https://colab.research.google.com/github/duytan118/XU-LY-ANH/blob/main/AI_powered_medical_diagnosis_skin_cancer.ipynb\" target=\"_parent\"><img src=\"https://colab.research.google.com/assets/colab-badge.svg\" alt=\"Open In Colab\"/></a>"
      ]
    },
    {
      "cell_type": "code",
      "execution_count": 1,
      "metadata": {
        "colab": {
          "base_uri": "https://localhost:8080/"
        },
        "id": "JkmGtf9_F9Wp",
        "outputId": "07ab1afd-56f2-4107-a6b1-abc3f9e03ff0"
      },
      "outputs": [
        {
          "output_type": "stream",
          "name": "stdout",
          "text": [
            "Drive already mounted at /content/drive; to attempt to forcibly remount, call drive.mount(\"/content/drive\", force_remount=True).\n"
          ]
        }
      ],
      "source": [
        "from google.colab import drive\n",
        "drive.mount('/content/drive')"
      ]
    },
    {
      "cell_type": "code",
      "execution_count": 2,
      "metadata": {
        "id": "Nwhhv6-GHzxo"
      },
      "outputs": [],
      "source": [
        "# Khai báo và sử dụng các thư viện sau\n",
        "\n",
        "from sklearn.model_selection import train_test_split\n",
        "import matplotlib.pyplot as plt\n",
        "import os\n",
        "from glob import glob\n",
        "import numpy as np\n",
        "import tensorflow as tf\n",
        "from keras.utils import np_utils\n",
        "from keras.models import Sequential\n",
        "from keras.layers import Dense, Activation, Dropout, Conv2D, MaxPooling2D, Flatten\n",
        "from keras.optimizers import SGD, RMSprop\n",
        "from keras.callbacks import EarlyStopping, ModelCheckpoint\n",
        "from sklearn.utils import validation \n",
        "from sklearn import preprocessing\n",
        "from keras.utils import to_categorical\n",
        "from keras.models import load_model\n",
        "from keras.utils import load_img, img_to_array\n",
        "from keras.preprocessing.image import ImageDataGenerator\n",
        "from keras.layers import LeakyReLU\n"
      ]
    },
    {
      "cell_type": "code",
      "execution_count": 3,
      "metadata": {
        "colab": {
          "base_uri": "https://localhost:8080/"
        },
        "id": "z3syUrIgJ1cQ",
        "outputId": "65211ef3-aef0-41ad-a61d-3e80f18bf3dd"
      },
      "outputs": [
        {
          "output_type": "stream",
          "name": "stdout",
          "text": [
            "/content/drive/MyDrive/Colab Notebooks/Skin cancer ISIC The International Skin Imaging Collaboration\n"
          ]
        }
      ],
      "source": [
        "%cd /content/drive/MyDrive/Colab Notebooks/Skin cancer ISIC The International Skin Imaging Collaboration/"
      ]
    },
    {
      "cell_type": "code",
      "execution_count": 4,
      "metadata": {
        "id": "MpTxCwLoMT_W"
      },
      "outputs": [],
      "source": [
        "train_data=ImageDataGenerator(rescale=1./255, shear_range=0.2, zoom_range=0.2, horizontal_flip=True)"
      ]
    },
    {
      "cell_type": "code",
      "execution_count": 5,
      "metadata": {
        "colab": {
          "base_uri": "https://localhost:8080/"
        },
        "id": "vmaF__V0NtG8",
        "outputId": "016e79a2-07e9-4748-c429-58363fe0c08e"
      },
      "outputs": [
        {
          "output_type": "stream",
          "name": "stdout",
          "text": [
            "Found 711 images belonging to 5 classes.\n"
          ]
        }
      ],
      "source": [
        "training=train_data.flow_from_directory('/content/drive/MyDrive/Colab Notebooks/Skin cancer ISIC The International Skin Imaging Collaboration/Train',target_size=(160,160), batch_size=64, class_mode='categorical')\n"
      ]
    },
    {
      "cell_type": "code",
      "execution_count": 6,
      "metadata": {
        "colab": {
          "base_uri": "https://localhost:8080/"
        },
        "id": "MyfuzSVBPJ_q",
        "outputId": "49bab7d4-e3c8-43b4-a027-b0d7e2adccbf"
      },
      "outputs": [
        {
          "output_type": "stream",
          "name": "stdout",
          "text": [
            "Found 396 images belonging to 5 classes.\n"
          ]
        }
      ],
      "source": [
        "validation=train_data.flow_from_directory('/content/drive/MyDrive/Colab Notebooks/Skin cancer ISIC The International Skin Imaging Collaboration/Validation',target_size=(160,160), batch_size=64, class_mode='categorical')"
      ]
    },
    {
      "cell_type": "code",
      "execution_count": 7,
      "metadata": {
        "colab": {
          "base_uri": "https://localhost:8080/"
        },
        "id": "dc6_rgElPx3h",
        "outputId": "bc544ce5-c2a9-4fc6-9f26-077ae7437e40"
      },
      "outputs": [
        {
          "output_type": "execute_result",
          "data": {
            "text/plain": [
              "{'basal cell carcinoma': 0,\n",
              " 'dermatofibroma': 1,\n",
              " 'melanoma': 2,\n",
              " 'nevus': 3,\n",
              " 'squamous cell carcinoma': 4}"
            ]
          },
          "metadata": {},
          "execution_count": 7
        }
      ],
      "source": [
        "training.class_indices"
      ]
    },
    {
      "cell_type": "code",
      "execution_count": 8,
      "metadata": {
        "colab": {
          "base_uri": "https://localhost:8080/"
        },
        "id": "OR8WKmFzP4eh",
        "outputId": "b912319f-78db-48b1-c98f-924f3027dfd9"
      },
      "outputs": [
        {
          "output_type": "execute_result",
          "data": {
            "text/plain": [
              "{'basal cell carcinoma': 0,\n",
              " 'dermatofibroma': 1,\n",
              " 'melanoma': 2,\n",
              " 'nevus': 3,\n",
              " 'squamous cell carcinoma': 4}"
            ]
          },
          "metadata": {},
          "execution_count": 8
        }
      ],
      "source": [
        "validation.class_indices"
      ]
    },
    {
      "cell_type": "code",
      "execution_count": 11,
      "metadata": {
        "colab": {
          "base_uri": "https://localhost:8080/"
        },
        "id": "CpmQBSfoP7l9",
        "outputId": "291df7d2-5aba-4a0f-ceb3-7b2f6b76bd5e"
      },
      "outputs": [
        {
          "output_type": "stream",
          "name": "stdout",
          "text": [
            "Model: \"sequential_1\"\n",
            "_________________________________________________________________\n",
            " Layer (type)                Output Shape              Param #   \n",
            "=================================================================\n",
            " conv2d_4 (Conv2D)           (None, 160, 160, 64)      1792      \n",
            "                                                                 \n",
            " leaky_re_lu_5 (LeakyReLU)   (None, 160, 160, 64)      0         \n",
            "                                                                 \n",
            " max_pooling2d_4 (MaxPooling  (None, 80, 80, 64)       0         \n",
            " 2D)                                                             \n",
            "                                                                 \n",
            " conv2d_5 (Conv2D)           (None, 80, 80, 128)       73856     \n",
            "                                                                 \n",
            " leaky_re_lu_6 (LeakyReLU)   (None, 80, 80, 128)       0         \n",
            "                                                                 \n",
            " max_pooling2d_5 (MaxPooling  (None, 40, 40, 128)      0         \n",
            " 2D)                                                             \n",
            "                                                                 \n",
            " conv2d_6 (Conv2D)           (None, 40, 40, 256)       295168    \n",
            "                                                                 \n",
            " leaky_re_lu_7 (LeakyReLU)   (None, 40, 40, 256)       0         \n",
            "                                                                 \n",
            " max_pooling2d_6 (MaxPooling  (None, 20, 20, 256)      0         \n",
            " 2D)                                                             \n",
            "                                                                 \n",
            " conv2d_7 (Conv2D)           (None, 20, 20, 512)       1180160   \n",
            "                                                                 \n",
            " leaky_re_lu_8 (LeakyReLU)   (None, 20, 20, 512)       0         \n",
            "                                                                 \n",
            " max_pooling2d_7 (MaxPooling  (None, 10, 10, 512)      0         \n",
            " 2D)                                                             \n",
            "                                                                 \n",
            " flatten_1 (Flatten)         (None, 51200)             0         \n",
            "                                                                 \n",
            " dense_2 (Dense)             (None, 1024)              52429824  \n",
            "                                                                 \n",
            " leaky_re_lu_9 (LeakyReLU)   (None, 1024)              0         \n",
            "                                                                 \n",
            " dense_3 (Dense)             (None, 5)                 5125      \n",
            "                                                                 \n",
            "=================================================================\n",
            "Total params: 53,985,925\n",
            "Trainable params: 53,985,925\n",
            "Non-trainable params: 0\n",
            "_________________________________________________________________\n"
          ]
        }
      ],
      "source": [
        "model = Sequential()\n",
        "#Convolutional\n",
        "model.add(Conv2D(64, kernel_size= (3,3), activation= 'linear', input_shape= (160,160,3), padding= 'same'))\n",
        "model.add(LeakyReLU(alpha= 0.1))\n",
        "model.add(MaxPooling2D((2,2), padding= 'same'))\n",
        "model.add(Conv2D(128, (3,3), activation= 'relu', padding= 'same'))\n",
        "model.add(LeakyReLU(alpha= 0.1))\n",
        "model.add(MaxPooling2D((2,2), padding= 'same'))\n",
        "model.add(Conv2D(256, (3,3), activation= 'relu', padding= 'same'))\n",
        "model.add(LeakyReLU(alpha= 0.1))\n",
        "model.add(MaxPooling2D((2,2), padding= 'same'))\n",
        "model.add(Conv2D(512, (3,3), activation= 'relu', padding= 'same'))\n",
        "model.add(LeakyReLU(alpha= 0.1))\n",
        "model.add(MaxPooling2D((2,2), padding= 'same'))\n",
        "#ANN\n",
        "model.add(Flatten())\n",
        "model.add(Dense(1024, activation= 'relu'))\n",
        "model.add(LeakyReLU(alpha= 0.1))\n",
        "model.add(Dense(5, activation= 'softmax'))\n",
        "\n",
        "model.summary()"
      ]
    },
    {
      "cell_type": "code",
      "execution_count": 13,
      "metadata": {
        "colab": {
          "base_uri": "https://localhost:8080/"
        },
        "id": "rXjzmpDYQAeB",
        "outputId": "c1d72b66-e9fc-4b08-ad40-1ed0aa07eb94"
      },
      "outputs": [
        {
          "output_type": "stream",
          "name": "stdout",
          "text": [
            "Epoch 1/100\n",
            "12/12 [==============================] - 36s 3s/step - loss: 0.5688 - accuracy: 0.7806 - val_loss: 2.1165 - val_accuracy: 0.5177\n",
            "Epoch 2/100\n",
            "12/12 [==============================] - 32s 3s/step - loss: 0.4455 - accuracy: 0.8411 - val_loss: 2.3870 - val_accuracy: 0.5202\n",
            "Epoch 3/100\n",
            "12/12 [==============================] - 32s 3s/step - loss: 0.4141 - accuracy: 0.8383 - val_loss: 2.4272 - val_accuracy: 0.5101\n",
            "Epoch 4/100\n",
            "12/12 [==============================] - 33s 3s/step - loss: 0.3749 - accuracy: 0.8523 - val_loss: 2.3267 - val_accuracy: 0.5278\n",
            "Epoch 5/100\n",
            "12/12 [==============================] - 31s 3s/step - loss: 0.3764 - accuracy: 0.8439 - val_loss: 2.4024 - val_accuracy: 0.5631\n",
            "Epoch 6/100\n",
            "12/12 [==============================] - 32s 3s/step - loss: 0.3805 - accuracy: 0.8537 - val_loss: 2.7262 - val_accuracy: 0.5480\n",
            "Epoch 7/100\n",
            "12/12 [==============================] - 32s 3s/step - loss: 0.3155 - accuracy: 0.8819 - val_loss: 2.5937 - val_accuracy: 0.5631\n",
            "Epoch 8/100\n",
            "12/12 [==============================] - 31s 3s/step - loss: 0.3235 - accuracy: 0.8833 - val_loss: 2.5865 - val_accuracy: 0.5884\n",
            "Epoch 9/100\n",
            "12/12 [==============================] - 31s 3s/step - loss: 0.3306 - accuracy: 0.8636 - val_loss: 2.8178 - val_accuracy: 0.5530\n",
            "Epoch 10/100\n",
            "12/12 [==============================] - 32s 3s/step - loss: 0.3330 - accuracy: 0.8720 - val_loss: 2.3974 - val_accuracy: 0.5732\n",
            "Epoch 11/100\n",
            "12/12 [==============================] - 31s 3s/step - loss: 0.2617 - accuracy: 0.9142 - val_loss: 2.3824 - val_accuracy: 0.5808\n",
            "Epoch 12/100\n",
            "12/12 [==============================] - 31s 3s/step - loss: 0.2620 - accuracy: 0.8945 - val_loss: 2.5937 - val_accuracy: 0.5859\n",
            "Epoch 13/100\n",
            "12/12 [==============================] - 33s 3s/step - loss: 0.2365 - accuracy: 0.9030 - val_loss: 3.1710 - val_accuracy: 0.5556\n",
            "Epoch 14/100\n",
            "12/12 [==============================] - 35s 3s/step - loss: 0.2879 - accuracy: 0.8945 - val_loss: 2.4662 - val_accuracy: 0.5758\n",
            "Epoch 15/100\n",
            "12/12 [==============================] - 31s 3s/step - loss: 0.2755 - accuracy: 0.8959 - val_loss: 3.1729 - val_accuracy: 0.5783\n",
            "Epoch 16/100\n",
            "12/12 [==============================] - 31s 3s/step - loss: 0.2471 - accuracy: 0.9142 - val_loss: 2.6100 - val_accuracy: 0.5808\n",
            "Epoch 17/100\n",
            "12/12 [==============================] - 32s 3s/step - loss: 0.2221 - accuracy: 0.9297 - val_loss: 3.3155 - val_accuracy: 0.5606\n",
            "Epoch 18/100\n",
            "12/12 [==============================] - 31s 3s/step - loss: 0.2272 - accuracy: 0.9156 - val_loss: 2.9052 - val_accuracy: 0.5758\n",
            "Epoch 19/100\n",
            "12/12 [==============================] - 31s 3s/step - loss: 0.1553 - accuracy: 0.9409 - val_loss: 3.3626 - val_accuracy: 0.5707\n",
            "Epoch 20/100\n",
            "12/12 [==============================] - 32s 3s/step - loss: 0.1450 - accuracy: 0.9508 - val_loss: 4.0332 - val_accuracy: 0.5859\n",
            "Epoch 21/100\n",
            "12/12 [==============================] - 32s 3s/step - loss: 0.4825 - accuracy: 0.8397 - val_loss: 2.2969 - val_accuracy: 0.5429\n",
            "Epoch 22/100\n",
            "12/12 [==============================] - 31s 3s/step - loss: 0.3563 - accuracy: 0.8664 - val_loss: 2.3923 - val_accuracy: 0.5732\n",
            "Epoch 23/100\n",
            "12/12 [==============================] - 31s 3s/step - loss: 0.2259 - accuracy: 0.9297 - val_loss: 2.7668 - val_accuracy: 0.5960\n",
            "Epoch 24/100\n",
            "12/12 [==============================] - 31s 3s/step - loss: 0.2069 - accuracy: 0.9269 - val_loss: 2.8543 - val_accuracy: 0.5732\n",
            "Epoch 25/100\n",
            "12/12 [==============================] - 32s 3s/step - loss: 0.2394 - accuracy: 0.9184 - val_loss: 2.6774 - val_accuracy: 0.5960\n",
            "Epoch 26/100\n",
            "12/12 [==============================] - 36s 3s/step - loss: 0.2297 - accuracy: 0.9198 - val_loss: 2.5685 - val_accuracy: 0.5985\n",
            "Epoch 27/100\n",
            "12/12 [==============================] - 31s 3s/step - loss: 0.1716 - accuracy: 0.9423 - val_loss: 3.2689 - val_accuracy: 0.5960\n",
            "Epoch 28/100\n",
            "12/12 [==============================] - 32s 3s/step - loss: 0.1247 - accuracy: 0.9578 - val_loss: 3.5193 - val_accuracy: 0.5909\n",
            "Epoch 29/100\n",
            "12/12 [==============================] - 31s 3s/step - loss: 0.1438 - accuracy: 0.9508 - val_loss: 3.8530 - val_accuracy: 0.6086\n",
            "Epoch 30/100\n",
            "12/12 [==============================] - 31s 3s/step - loss: 0.1178 - accuracy: 0.9522 - val_loss: 4.4449 - val_accuracy: 0.5606\n",
            "Epoch 31/100\n",
            "12/12 [==============================] - 35s 3s/step - loss: 0.1694 - accuracy: 0.9437 - val_loss: 3.3377 - val_accuracy: 0.5960\n",
            "Epoch 32/100\n",
            "12/12 [==============================] - 31s 3s/step - loss: 0.2275 - accuracy: 0.9100 - val_loss: 2.9418 - val_accuracy: 0.5606\n",
            "Epoch 33/100\n",
            "12/12 [==============================] - 35s 3s/step - loss: 0.2040 - accuracy: 0.9283 - val_loss: 3.0735 - val_accuracy: 0.5909\n",
            "Epoch 34/100\n",
            "12/12 [==============================] - 31s 3s/step - loss: 0.1821 - accuracy: 0.9325 - val_loss: 2.9154 - val_accuracy: 0.5808\n",
            "Epoch 35/100\n",
            "12/12 [==============================] - 31s 3s/step - loss: 0.1671 - accuracy: 0.9381 - val_loss: 3.1585 - val_accuracy: 0.5909\n",
            "Epoch 36/100\n",
            "12/12 [==============================] - 35s 3s/step - loss: 0.1493 - accuracy: 0.9480 - val_loss: 3.0143 - val_accuracy: 0.5758\n",
            "Epoch 37/100\n",
            "12/12 [==============================] - 31s 3s/step - loss: 0.0977 - accuracy: 0.9677 - val_loss: 3.7009 - val_accuracy: 0.6212\n",
            "Epoch 38/100\n",
            "12/12 [==============================] - 31s 3s/step - loss: 0.1064 - accuracy: 0.9634 - val_loss: 3.4977 - val_accuracy: 0.6035\n",
            "Epoch 39/100\n",
            "12/12 [==============================] - 32s 3s/step - loss: 0.1167 - accuracy: 0.9677 - val_loss: 4.0554 - val_accuracy: 0.6061\n",
            "Epoch 40/100\n",
            "12/12 [==============================] - 31s 3s/step - loss: 0.1116 - accuracy: 0.9522 - val_loss: 3.6708 - val_accuracy: 0.6035\n",
            "Epoch 41/100\n",
            "12/12 [==============================] - 35s 3s/step - loss: 0.0965 - accuracy: 0.9803 - val_loss: 3.3495 - val_accuracy: 0.5909\n",
            "Epoch 42/100\n",
            "12/12 [==============================] - 31s 3s/step - loss: 0.0732 - accuracy: 0.9817 - val_loss: 4.0644 - val_accuracy: 0.5783\n",
            "Epoch 43/100\n",
            "12/12 [==============================] - 32s 3s/step - loss: 0.0569 - accuracy: 0.9859 - val_loss: 3.8219 - val_accuracy: 0.5934\n",
            "Epoch 44/100\n",
            "12/12 [==============================] - 31s 3s/step - loss: 0.0903 - accuracy: 0.9648 - val_loss: 4.2065 - val_accuracy: 0.5707\n",
            "Epoch 45/100\n",
            "12/12 [==============================] - 31s 3s/step - loss: 0.1065 - accuracy: 0.9606 - val_loss: 4.0506 - val_accuracy: 0.5530\n",
            "Epoch 46/100\n",
            "12/12 [==============================] - 35s 3s/step - loss: 0.1195 - accuracy: 0.9620 - val_loss: 3.9384 - val_accuracy: 0.5884\n",
            "Epoch 47/100\n",
            "12/12 [==============================] - 32s 3s/step - loss: 0.1282 - accuracy: 0.9522 - val_loss: 4.1522 - val_accuracy: 0.6162\n",
            "Epoch 48/100\n",
            "12/12 [==============================] - 35s 3s/step - loss: 0.0868 - accuracy: 0.9648 - val_loss: 3.7042 - val_accuracy: 0.5884\n",
            "Epoch 49/100\n",
            "12/12 [==============================] - 31s 3s/step - loss: 0.0955 - accuracy: 0.9691 - val_loss: 3.9391 - val_accuracy: 0.5556\n",
            "Epoch 50/100\n",
            "12/12 [==============================] - 32s 3s/step - loss: 0.1214 - accuracy: 0.9634 - val_loss: 3.5831 - val_accuracy: 0.6010\n",
            "Epoch 51/100\n",
            "12/12 [==============================] - 32s 3s/step - loss: 0.0981 - accuracy: 0.9620 - val_loss: 3.4899 - val_accuracy: 0.5859\n",
            "Epoch 52/100\n",
            "12/12 [==============================] - 31s 3s/step - loss: 0.0733 - accuracy: 0.9705 - val_loss: 3.7561 - val_accuracy: 0.5934\n",
            "Epoch 53/100\n",
            "12/12 [==============================] - 31s 3s/step - loss: 0.0506 - accuracy: 0.9831 - val_loss: 3.8482 - val_accuracy: 0.5985\n",
            "Epoch 54/100\n",
            "12/12 [==============================] - 35s 3s/step - loss: 0.0677 - accuracy: 0.9817 - val_loss: 3.9287 - val_accuracy: 0.6061\n",
            "Epoch 55/100\n",
            "12/12 [==============================] - 33s 3s/step - loss: 0.0513 - accuracy: 0.9887 - val_loss: 4.3168 - val_accuracy: 0.5985\n",
            "Epoch 56/100\n",
            "12/12 [==============================] - 31s 3s/step - loss: 0.0818 - accuracy: 0.9705 - val_loss: 4.8081 - val_accuracy: 0.5783\n",
            "Epoch 57/100\n",
            "12/12 [==============================] - 32s 3s/step - loss: 0.0670 - accuracy: 0.9817 - val_loss: 3.9282 - val_accuracy: 0.5985\n",
            "Epoch 58/100\n",
            "12/12 [==============================] - 34s 3s/step - loss: 0.0685 - accuracy: 0.9775 - val_loss: 4.1211 - val_accuracy: 0.5909\n",
            "Epoch 59/100\n",
            "12/12 [==============================] - 31s 3s/step - loss: 0.0749 - accuracy: 0.9691 - val_loss: 4.3108 - val_accuracy: 0.6187\n",
            "Epoch 60/100\n",
            "12/12 [==============================] - 32s 3s/step - loss: 0.0509 - accuracy: 0.9789 - val_loss: 4.8779 - val_accuracy: 0.5783\n",
            "Epoch 61/100\n",
            "12/12 [==============================] - 33s 3s/step - loss: 0.0812 - accuracy: 0.9789 - val_loss: 4.1522 - val_accuracy: 0.6010\n",
            "Epoch 62/100\n",
            "12/12 [==============================] - 32s 3s/step - loss: 0.0992 - accuracy: 0.9747 - val_loss: 4.5296 - val_accuracy: 0.5934\n",
            "Epoch 63/100\n",
            "12/12 [==============================] - 32s 3s/step - loss: 0.1371 - accuracy: 0.9634 - val_loss: 4.7492 - val_accuracy: 0.5682\n",
            "Epoch 64/100\n",
            "12/12 [==============================] - 33s 3s/step - loss: 0.7252 - accuracy: 0.8129 - val_loss: 3.5124 - val_accuracy: 0.5152\n",
            "Epoch 65/100\n",
            "12/12 [==============================] - 32s 3s/step - loss: 0.4627 - accuracy: 0.8312 - val_loss: 2.0934 - val_accuracy: 0.5025\n",
            "Epoch 66/100\n",
            "12/12 [==============================] - 32s 3s/step - loss: 0.3076 - accuracy: 0.8987 - val_loss: 3.0809 - val_accuracy: 0.5631\n",
            "Epoch 67/100\n",
            "12/12 [==============================] - 33s 3s/step - loss: 0.2314 - accuracy: 0.9241 - val_loss: 3.4321 - val_accuracy: 0.5480\n",
            "Epoch 68/100\n",
            "12/12 [==============================] - 32s 3s/step - loss: 0.1576 - accuracy: 0.9437 - val_loss: 3.1512 - val_accuracy: 0.5707\n",
            "Epoch 69/100\n",
            "12/12 [==============================] - 35s 3s/step - loss: 0.1058 - accuracy: 0.9648 - val_loss: 4.0997 - val_accuracy: 0.5505\n",
            "Epoch 70/100\n",
            "12/12 [==============================] - 32s 3s/step - loss: 0.2157 - accuracy: 0.9226 - val_loss: 3.2359 - val_accuracy: 0.5682\n",
            "Epoch 71/100\n",
            "12/12 [==============================] - 32s 3s/step - loss: 0.1138 - accuracy: 0.9648 - val_loss: 3.0876 - val_accuracy: 0.5833\n",
            "Epoch 72/100\n",
            "12/12 [==============================] - 33s 3s/step - loss: 0.0666 - accuracy: 0.9831 - val_loss: 3.6015 - val_accuracy: 0.5934\n",
            "Epoch 73/100\n",
            "12/12 [==============================] - 31s 3s/step - loss: 0.0585 - accuracy: 0.9845 - val_loss: 3.7671 - val_accuracy: 0.5934\n",
            "Epoch 74/100\n",
            "12/12 [==============================] - 31s 3s/step - loss: 0.0987 - accuracy: 0.9648 - val_loss: 4.1161 - val_accuracy: 0.5758\n",
            "Epoch 75/100\n",
            "12/12 [==============================] - 33s 3s/step - loss: 0.1312 - accuracy: 0.9437 - val_loss: 4.8092 - val_accuracy: 0.5556\n",
            "Epoch 76/100\n",
            "12/12 [==============================] - 31s 3s/step - loss: 0.0838 - accuracy: 0.9761 - val_loss: 4.1209 - val_accuracy: 0.5758\n",
            "Epoch 77/100\n",
            "12/12 [==============================] - 32s 3s/step - loss: 0.0729 - accuracy: 0.9747 - val_loss: 4.3423 - val_accuracy: 0.5783\n",
            "Epoch 78/100\n",
            "12/12 [==============================] - 33s 3s/step - loss: 0.0524 - accuracy: 0.9831 - val_loss: 4.8217 - val_accuracy: 0.5682\n",
            "Epoch 79/100\n",
            "12/12 [==============================] - 32s 3s/step - loss: 0.0385 - accuracy: 0.9902 - val_loss: 4.2399 - val_accuracy: 0.5884\n",
            "Epoch 80/100\n",
            "12/12 [==============================] - 31s 3s/step - loss: 0.0580 - accuracy: 0.9775 - val_loss: 3.9736 - val_accuracy: 0.5758\n",
            "Epoch 81/100\n",
            "12/12 [==============================] - 31s 3s/step - loss: 0.0776 - accuracy: 0.9817 - val_loss: 4.3273 - val_accuracy: 0.5455\n",
            "Epoch 82/100\n",
            "12/12 [==============================] - 31s 3s/step - loss: 0.1255 - accuracy: 0.9733 - val_loss: 3.3610 - val_accuracy: 0.6035\n",
            "Epoch 83/100\n",
            "12/12 [==============================] - 32s 3s/step - loss: 0.1114 - accuracy: 0.9662 - val_loss: 3.2794 - val_accuracy: 0.6035\n",
            "Epoch 84/100\n",
            "12/12 [==============================] - 31s 3s/step - loss: 0.0506 - accuracy: 0.9873 - val_loss: 3.4860 - val_accuracy: 0.5758\n",
            "Epoch 85/100\n",
            "12/12 [==============================] - 32s 3s/step - loss: 0.0274 - accuracy: 0.9944 - val_loss: 3.7965 - val_accuracy: 0.5960\n",
            "Epoch 86/100\n",
            "12/12 [==============================] - 31s 3s/step - loss: 0.0309 - accuracy: 0.9902 - val_loss: 4.0317 - val_accuracy: 0.6010\n",
            "Epoch 87/100\n",
            "12/12 [==============================] - 34s 3s/step - loss: 0.0675 - accuracy: 0.9845 - val_loss: 4.4143 - val_accuracy: 0.5682\n",
            "Epoch 88/100\n",
            "12/12 [==============================] - 31s 3s/step - loss: 0.0529 - accuracy: 0.9803 - val_loss: 3.8673 - val_accuracy: 0.5707\n",
            "Epoch 89/100\n",
            "12/12 [==============================] - 32s 3s/step - loss: 0.0344 - accuracy: 0.9902 - val_loss: 4.2323 - val_accuracy: 0.5884\n",
            "Epoch 90/100\n",
            "12/12 [==============================] - 30s 3s/step - loss: 0.0536 - accuracy: 0.9845 - val_loss: 4.3184 - val_accuracy: 0.5833\n",
            "Epoch 91/100\n",
            "12/12 [==============================] - 31s 3s/step - loss: 0.0470 - accuracy: 0.9902 - val_loss: 4.7727 - val_accuracy: 0.5960\n",
            "Epoch 92/100\n",
            "12/12 [==============================] - 32s 3s/step - loss: 0.0256 - accuracy: 0.9916 - val_loss: 4.6805 - val_accuracy: 0.5808\n",
            "Epoch 93/100\n",
            "12/12 [==============================] - 31s 3s/step - loss: 0.0386 - accuracy: 0.9902 - val_loss: 4.4926 - val_accuracy: 0.6035\n",
            "Epoch 94/100\n",
            "12/12 [==============================] - 31s 3s/step - loss: 0.0473 - accuracy: 0.9789 - val_loss: 4.3385 - val_accuracy: 0.5985\n",
            "Epoch 95/100\n",
            "12/12 [==============================] - 32s 3s/step - loss: 0.0587 - accuracy: 0.9803 - val_loss: 5.1673 - val_accuracy: 0.5783\n",
            "Epoch 96/100\n",
            "12/12 [==============================] - 31s 3s/step - loss: 0.0608 - accuracy: 0.9916 - val_loss: 5.6351 - val_accuracy: 0.5606\n",
            "Epoch 97/100\n",
            "12/12 [==============================] - 34s 3s/step - loss: 0.0648 - accuracy: 0.9803 - val_loss: 4.3283 - val_accuracy: 0.5480\n",
            "Epoch 98/100\n",
            "12/12 [==============================] - 31s 3s/step - loss: 0.0270 - accuracy: 0.9930 - val_loss: 4.8100 - val_accuracy: 0.5884\n",
            "Epoch 99/100\n",
            "12/12 [==============================] - 32s 3s/step - loss: 0.0150 - accuracy: 0.9972 - val_loss: 4.6546 - val_accuracy: 0.6035\n",
            "Epoch 100/100\n",
            "12/12 [==============================] - 31s 3s/step - loss: 0.0345 - accuracy: 0.9873 - val_loss: 4.8336 - val_accuracy: 0.5909\n"
          ]
        }
      ],
      "source": [
        "# Biên dịch \n",
        "model.compile(optimizer='adam',loss='categorical_crossentropy',metrics=['accuracy'])\n",
        "# Gán biến lại để vẽ đồ thị, với 100 lần học (epochs), mỗi lần học thì chỉ học 64 dữ liệu (batch_size), khi sai số không thay đổi trong 80 lần học thì sẽ␣ dừng học \n",
        "history=model.fit(training,epochs=100,batch_size=64,verbose=1, validation_data=validation, callbacks=[EarlyStopping(monitor='val_loss', patience=80)])"
      ]
    },
    {
      "cell_type": "code",
      "execution_count": 14,
      "metadata": {
        "id": "JW7FN6YAQLJr"
      },
      "outputs": [],
      "source": [
        "# Lưu \n",
        "model.save(\"Skin_cancer.h5\")\n",
        "model_1=load_model('Skin_cancer.h5')"
      ]
    },
    {
      "cell_type": "code",
      "execution_count": 15,
      "metadata": {
        "id": "-LZnOyyTSHoP",
        "colab": {
          "base_uri": "https://localhost:8080/"
        },
        "outputId": "175b82d1-cbbd-412f-9774-44ddc5c6b6f4"
      },
      "outputs": [
        {
          "output_type": "stream",
          "name": "stdout",
          "text": [
            "Train Loss 0.010702479630708694\n",
            "Train Accuracy 0.997187077999115\n"
          ]
        }
      ],
      "source": [
        "# Đánh giá độ chính xác của mô hình \n",
        "Score=model.evaluate(training,verbose=0)\n",
        "print('Train Loss', Score[0])\n",
        "print('Train Accuracy', Score[1])"
      ]
    },
    {
      "cell_type": "code",
      "execution_count": 16,
      "metadata": {
        "id": "GI7mfkQvSSQx",
        "colab": {
          "base_uri": "https://localhost:8080/",
          "height": 489
        },
        "outputId": "5abb5d8e-ea3f-4f75-a273-ec2e1aad72b7"
      },
      "outputs": [
        {
          "output_type": "execute_result",
          "data": {
            "text/plain": [
              "<function matplotlib.pyplot.show(close=None, block=None)>"
            ]
          },
          "metadata": {},
          "execution_count": 16
        },
        {
          "output_type": "display_data",
          "data": {
            "text/plain": [
              "<Figure size 640x480 with 1 Axes>"
            ],
            "image/png": "[encoded data removed]"
          },
          "metadata": {}
        }
      ],
      "source": [
        "# Vẽ đồ thị giữa số lần học (Epochs) và độ chính xác (Accuracy)\n",
        "plt.plot(history.history['accuracy'])\n",
        "plt.plot(history.history['val_accuracy'])\n",
        "plt.title('Model Accuracy')\n",
        "plt.ylabel('Accuracy')\n",
        "plt.xlabel('Epochs')\n",
        "plt.legend(['Train','Validation'])\n",
        "plt.show"
      ]
    },
    {
      "cell_type": "code",
      "execution_count": null,
      "metadata": {
        "id": "DzWkP2ByckI5"
      },
      "outputs": [],
      "source": []
    }
  ],
  "metadata": {
    "accelerator": "GPU",
    "colab": {
      "provenance": [],
      "gpuType": "T4",
      "mount_file_id": "160QASkMgGrSIGTGyExViAYVbmXLNYcDZ",
      "authorship_tag": "ABX9TyP856oKphrcSRGuFcVZXZaZ",
      "include_colab_link": true
    },
    "kernelspec": {
      "display_name": "Python 3",
      "name": "python3"
    },
    "language_info": {
      "name": "python"
    }
  },
  "nbformat": 4,
  "nbformat_minor": 0
}